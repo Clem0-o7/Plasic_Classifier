{
 "cells": [
  {
   "cell_type": "markdown",
   "metadata": {},
   "source": [
    "Imports"
   ]
  },
  {
   "cell_type": "code",
   "execution_count": 1,
   "metadata": {},
   "outputs": [],
   "source": [
    "import os\n",
    "import numpy as np\n",
    "import tensorflow as tf\n",
    "from tensorflow import keras\n",
    "from tensorflow.keras.preprocessing.image import ImageDataGenerator\n",
    "from tensorflow.keras.applications import VGG16\n",
    "from tensorflow.keras.models import Sequential\n",
    "from tensorflow.keras.layers import Conv2D, MaxPooling2D, Flatten, Dense, Dropout\n",
    "from tensorflow.keras.optimizers import Adam\n",
    "from tensorflow.keras.regularizers import l2\n",
    "from tensorflow.keras.callbacks import ReduceLROnPlateau\n",
    "from sklearn.model_selection import train_test_split, StratifiedKFold\n",
    "from sklearn.metrics import classification_report, confusion_matrix\n",
    "from sklearn.utils.class_weight import compute_class_weight\n",
    "import cv2\n",
    "import matplotlib.pyplot as plt\n",
    "import seaborn as sns"
   ]
  },
  {
   "cell_type": "markdown",
   "metadata": {},
   "source": [
    "Image Loading and Segmentation"
   ]
  },
  {
   "cell_type": "code",
   "execution_count": 7,
   "metadata": {},
   "outputs": [
    {
     "name": "stdout",
     "output_type": "stream",
     "text": [
      "Loaded 700 images\n",
      "Image shape: (128, 128, 3)\n",
      "Image dtype: uint8\n",
      "Segmented 700 images\n"
     ]
    }
   ],
   "source": [
    "import os\n",
    "import numpy as np\n",
    "import cv2\n",
    "\n",
    "def load_and_preprocess_images(data_dir, target_size=(128, 128)):\n",
    "    images = []\n",
    "    labels = []\n",
    "    label_map = {'HDPE': 0, 'LDPE': 1, 'Other': 2, 'PET': 3, 'PP': 4, 'PS': 5, 'PVC': 6}\n",
    "    \n",
    "    for label in os.listdir(data_dir):\n",
    "        label_dir = os.path.join(data_dir, label)\n",
    "        if os.path.isdir(label_dir):\n",
    "            for img_name in os.listdir(label_dir):\n",
    "                img_path = os.path.join(label_dir, img_name)\n",
    "                img = cv2.imread(img_path)\n",
    "                if img is None:\n",
    "                    print(f\"Failed to load image: {img_path}\")\n",
    "                    continue\n",
    "                img = cv2.cvtColor(img, cv2.COLOR_BGR2RGB)\n",
    "                img = cv2.resize(img, target_size)\n",
    "                img = img.astype(np.uint8)  \n",
    "                images.append(img)\n",
    "                labels.append(label_map[label])\n",
    "    \n",
    "    return np.array(images), np.array(labels)\n",
    "\n",
    "def segment_image(image):\n",
    "    if image.dtype != np.uint8:\n",
    "        image = (image * 255).astype(np.uint8)\n",
    "    \n",
    "    gray = cv2.cvtColor(image, cv2.COLOR_RGB2GRAY)\n",
    "    _, binary = cv2.threshold(gray, 0, 255, cv2.THRESH_BINARY_INV + cv2.THRESH_OTSU)\n",
    "    contours, _ = cv2.findContours(binary, cv2.RETR_EXTERNAL, cv2.CHAIN_APPROX_SIMPLE)\n",
    "    \n",
    "    if contours:\n",
    "        largest_contour = max(contours, key=cv2.contourArea)\n",
    "        mask = np.zeros(image.shape[:2], dtype=np.uint8)\n",
    "        cv2.drawContours(mask, [largest_contour], 0, 255, -1)\n",
    "        segmented = cv2.bitwise_and(image, image, mask=mask)\n",
    "        return segmented\n",
    "    else:\n",
    "        return image\n",
    "\n",
    "# Usage\n",
    "data_dir = 'images'\n",
    "images, labels = load_and_preprocess_images(data_dir)\n",
    "\n",
    "# Apply segmentation to all images\n",
    "segmented_images = np.array([segment_image(img) for img in images])\n",
    "\n",
    "print(f\"Loaded {len(images)} images\")\n",
    "print(f\"Image shape: {images[0].shape}\")\n",
    "print(f\"Image dtype: {images[0].dtype}\")\n",
    "print(f\"Segmented {len(segmented_images)} images\")"
   ]
  },
  {
   "cell_type": "markdown",
   "metadata": {},
   "source": [
    "Data Augmentation"
   ]
  },
  {
   "cell_type": "code",
   "execution_count": 8,
   "metadata": {},
   "outputs": [],
   "source": [
    "datagen = ImageDataGenerator(\n",
    "    rotation_range=20,\n",
    "    width_shift_range=0.2,\n",
    "    height_shift_range=0.2,\n",
    "    shear_range=0.2,\n",
    "    zoom_range=0.2,\n",
    "    horizontal_flip=True,\n",
    "    fill_mode='nearest'\n",
    ")\n",
    "\n",
    "# Assuming we want to increase our dataset by a factor of 5\n",
    "augmentation_factor = 5\n",
    "augmented_images = []\n",
    "augmented_labels = []\n",
    "\n",
    "for image, label in zip(segmented_images, labels):\n",
    "    image = image.reshape((1,) + image.shape)\n",
    "    i = 0\n",
    "    for batch in datagen.flow(image, batch_size=1):\n",
    "        augmented_images.append(batch[0])\n",
    "        augmented_labels.append(label)\n",
    "        i += 1\n",
    "        if i >= augmentation_factor:\n",
    "            break\n",
    "\n",
    "augmented_images = np.array(augmented_images)\n",
    "augmented_labels = np.array(augmented_labels)\n",
    "\n",
    "# Combine original and augmented data\n",
    "X = np.concatenate((segmented_images, augmented_images))\n",
    "y = np.concatenate((labels, augmented_labels))"
   ]
  },
  {
   "cell_type": "markdown",
   "metadata": {},
   "source": [
    "Feature Extraction"
   ]
  },
  {
   "cell_type": "code",
   "execution_count": 9,
   "metadata": {},
   "outputs": [
    {
     "name": "stdout",
     "output_type": "stream",
     "text": [
      "Downloading data from https://storage.googleapis.com/tensorflow/keras-applications/vgg16/vgg16_weights_tf_dim_ordering_tf_kernels_notop.h5\n",
      "58889256/58889256 [==============================] - 6s 0us/step\n",
      "Model: \"sequential\"\n",
      "_________________________________________________________________\n",
      " Layer (type)                Output Shape              Param #   \n",
      "=================================================================\n",
      " vgg16 (Functional)          (None, 4, 4, 512)         14714688  \n",
      "                                                                 \n",
      " flatten (Flatten)           (None, 8192)              0         \n",
      "                                                                 \n",
      " dense (Dense)               (None, 256)               2097408   \n",
      "                                                                 \n",
      " dropout (Dropout)           (None, 256)               0         \n",
      "                                                                 \n",
      " dense_1 (Dense)             (None, 7)                 1799      \n",
      "                                                                 \n",
      "=================================================================\n",
      "Total params: 16,813,895\n",
      "Trainable params: 2,099,207\n",
      "Non-trainable params: 14,714,688\n",
      "_________________________________________________________________\n"
     ]
    }
   ],
   "source": [
    "base_model = VGG16(weights='imagenet', include_top=False, input_shape=(128, 128, 3))\n",
    "\n",
    "# Freeze the base model layers\n",
    "for layer in base_model.layers:\n",
    "    layer.trainable = False\n",
    "\n",
    "# Create a new model on top\n",
    "model = Sequential([\n",
    "    base_model,\n",
    "    Flatten(),\n",
    "    Dense(256, activation='relu'),\n",
    "    Dropout(0.5),\n",
    "    Dense(7, activation='softmax')\n",
    "])\n",
    "\n",
    "model.summary()"
   ]
  },
  {
   "cell_type": "markdown",
   "metadata": {},
   "source": [
    "Model Compilation and Training"
   ]
  },
  {
   "cell_type": "code",
   "execution_count": 10,
   "metadata": {},
   "outputs": [
    {
     "name": "stdout",
     "output_type": "stream",
     "text": [
      "Epoch 1/50\n",
      "84/84 [==============================] - 17s 92ms/step - loss: 11.9279 - accuracy: 0.3002 - val_loss: 3.6767 - val_accuracy: 0.5149\n",
      "Epoch 2/50\n",
      "84/84 [==============================] - 8s 92ms/step - loss: 3.4160 - accuracy: 0.5376 - val_loss: 2.2161 - val_accuracy: 0.5938\n",
      "Epoch 3/50\n",
      "84/84 [==============================] - 8s 100ms/step - loss: 1.7035 - accuracy: 0.6473 - val_loss: 1.7717 - val_accuracy: 0.6488\n",
      "Epoch 4/50\n",
      "84/84 [==============================] - 9s 104ms/step - loss: 1.0276 - accuracy: 0.7400 - val_loss: 1.5174 - val_accuracy: 0.6756\n",
      "Epoch 5/50\n",
      "84/84 [==============================] - 9s 104ms/step - loss: 0.7409 - accuracy: 0.7924 - val_loss: 1.3836 - val_accuracy: 0.6935\n",
      "Epoch 6/50\n",
      "84/84 [==============================] - 10s 117ms/step - loss: 0.5783 - accuracy: 0.8430 - val_loss: 1.3451 - val_accuracy: 0.6964\n",
      "Epoch 7/50\n",
      "84/84 [==============================] - 10s 116ms/step - loss: 0.4080 - accuracy: 0.8646 - val_loss: 1.3026 - val_accuracy: 0.7113\n",
      "Epoch 8/50\n",
      "84/84 [==============================] - 9s 112ms/step - loss: 0.3454 - accuracy: 0.8906 - val_loss: 1.3176 - val_accuracy: 0.7128\n",
      "Epoch 9/50\n",
      "84/84 [==============================] - 10s 121ms/step - loss: 0.2929 - accuracy: 0.9055 - val_loss: 1.2332 - val_accuracy: 0.7262\n",
      "Epoch 10/50\n",
      "84/84 [==============================] - 10s 119ms/step - loss: 0.2309 - accuracy: 0.9289 - val_loss: 1.2075 - val_accuracy: 0.7351\n",
      "Epoch 11/50\n",
      "84/84 [==============================] - 10s 121ms/step - loss: 0.2052 - accuracy: 0.9353 - val_loss: 1.2378 - val_accuracy: 0.7307\n",
      "Epoch 12/50\n",
      "84/84 [==============================] - 10s 120ms/step - loss: 0.1825 - accuracy: 0.9401 - val_loss: 1.1931 - val_accuracy: 0.7440\n",
      "Epoch 13/50\n",
      "84/84 [==============================] - 10s 124ms/step - loss: 0.1561 - accuracy: 0.9505 - val_loss: 1.1905 - val_accuracy: 0.7500\n",
      "Epoch 14/50\n",
      "84/84 [==============================] - 12s 139ms/step - loss: 0.1475 - accuracy: 0.9513 - val_loss: 1.1948 - val_accuracy: 0.7515\n",
      "Epoch 15/50\n",
      "84/84 [==============================] - 10s 124ms/step - loss: 0.1435 - accuracy: 0.9557 - val_loss: 1.1784 - val_accuracy: 0.7470\n",
      "Epoch 16/50\n",
      "84/84 [==============================] - 11s 128ms/step - loss: 0.1178 - accuracy: 0.9665 - val_loss: 1.1516 - val_accuracy: 0.7515\n",
      "Epoch 17/50\n",
      "84/84 [==============================] - 10s 124ms/step - loss: 0.1102 - accuracy: 0.9650 - val_loss: 1.2072 - val_accuracy: 0.7560\n",
      "Epoch 18/50\n",
      "84/84 [==============================] - 11s 126ms/step - loss: 0.1030 - accuracy: 0.9680 - val_loss: 1.1854 - val_accuracy: 0.7649\n",
      "Epoch 19/50\n",
      "84/84 [==============================] - 11s 127ms/step - loss: 0.0810 - accuracy: 0.9721 - val_loss: 1.1647 - val_accuracy: 0.7545\n",
      "Epoch 20/50\n",
      "84/84 [==============================] - 11s 128ms/step - loss: 0.0941 - accuracy: 0.9736 - val_loss: 1.1304 - val_accuracy: 0.7679\n",
      "Epoch 21/50\n",
      "84/84 [==============================] - 11s 134ms/step - loss: 0.0785 - accuracy: 0.9751 - val_loss: 1.1358 - val_accuracy: 0.7842\n",
      "Epoch 22/50\n",
      "84/84 [==============================] - 11s 134ms/step - loss: 0.0649 - accuracy: 0.9803 - val_loss: 1.1383 - val_accuracy: 0.7768\n",
      "Epoch 23/50\n",
      "84/84 [==============================] - 11s 132ms/step - loss: 0.0701 - accuracy: 0.9795 - val_loss: 1.1582 - val_accuracy: 0.7887\n",
      "Epoch 24/50\n",
      "84/84 [==============================] - 11s 135ms/step - loss: 0.0720 - accuracy: 0.9784 - val_loss: 1.1826 - val_accuracy: 0.7798\n",
      "Epoch 25/50\n",
      "84/84 [==============================] - 11s 132ms/step - loss: 0.0534 - accuracy: 0.9814 - val_loss: 1.1650 - val_accuracy: 0.7961\n"
     ]
    },
    {
     "data": {
      "image/png": "[encoded data removed]",
      "text/plain": [
       "<Figure size 640x480 with 1 Axes>"
      ]
     },
     "metadata": {},
     "output_type": "display_data"
    }
   ],
   "source": [
    "# Split the data into training and testing sets\n",
    "X_train, X_test, y_train, y_test = train_test_split(X, y, test_size=0.2, random_state=42)\n",
    "\n",
    "# Convert labels to categorical\n",
    "y_train_cat = keras.utils.to_categorical(y_train, 7)\n",
    "y_test_cat = keras.utils.to_categorical(y_test, 7)\n",
    "\n",
    "# Compile the model\n",
    "model.compile(optimizer=Adam(learning_rate=0.0001),\n",
    "              loss='categorical_crossentropy',\n",
    "              metrics=['accuracy'])\n",
    "\n",
    "# Train the model\n",
    "history = model.fit(X_train, y_train_cat,\n",
    "                    epochs=50,\n",
    "                    batch_size=32,\n",
    "                    validation_split=0.2,\n",
    "                    callbacks=[keras.callbacks.EarlyStopping(patience=5, restore_best_weights=True)])\n",
    "\n",
    "# Plot training history\n",
    "plt.plot(history.history['accuracy'], label='accuracy')\n",
    "plt.plot(history.history['val_accuracy'], label='val_accuracy')\n",
    "plt.xlabel('Epoch')\n",
    "plt.ylabel('Accuracy')\n",
    "plt.legend()\n",
    "plt.show()"
   ]
  },
  {
   "cell_type": "markdown",
   "metadata": {},
   "source": [
    "Model Evaluation    "
   ]
  },
  {
   "cell_type": "code",
   "execution_count": 13,
   "metadata": {},
   "outputs": [
    {
     "name": "stdout",
     "output_type": "stream",
     "text": [
      "27/27 [==============================] - 2s 61ms/step\n",
      "              precision    recall  f1-score   support\n",
      "\n",
      "        HDPE       0.77      0.76      0.77       131\n",
      "        LDPE       0.86      0.81      0.83       124\n",
      "       Other       0.70      0.85      0.77       118\n",
      "         PET       0.75      0.77      0.76       135\n",
      "          PP       0.82      0.69      0.75       110\n",
      "          PS       0.80      0.83      0.81       104\n",
      "         PVC       0.79      0.75      0.77       118\n",
      "\n",
      "    accuracy                           0.78       840\n",
      "   macro avg       0.78      0.78      0.78       840\n",
      "weighted avg       0.78      0.78      0.78       840\n",
      "\n"
     ]
    },
    {
     "data": {
      "image/png": "[encoded data removed]",
      "text/plain": [
       "<Figure size 1000x800 with 2 Axes>"
      ]
     },
     "metadata": {},
     "output_type": "display_data"
    }
   ],
   "source": [
    "import seaborn as sns\n",
    "\n",
    "# Predict on test set\n",
    "y_pred = model.predict(X_test)\n",
    "y_pred_classes = np.argmax(y_pred, axis=1)\n",
    "y_test_classes = np.argmax(y_test_cat, axis=1)\n",
    "\n",
    "# Print classification report\n",
    "print(classification_report(y_test_classes, y_pred_classes, target_names=['HDPE', 'LDPE', 'Other', 'PET', 'PP', 'PS', 'PVC']))\n",
    "\n",
    "# Plot confusion matrix\n",
    "cm = confusion_matrix(y_test_classes, y_pred_classes)\n",
    "plt.figure(figsize=(10, 8))\n",
    "sns.heatmap(cm, annot=True, fmt='d', cmap='Blues')\n",
    "plt.xlabel('Predicted')\n",
    "plt.ylabel('True')\n",
    "plt.title('Confusion Matrix')\n",
    "plt.show()"
   ]
  },
  {
   "cell_type": "markdown",
   "metadata": {},
   "source": [
    "# Save the model"
   ]
  },
  {
   "cell_type": "code",
   "execution_count": 14,
   "metadata": {},
   "outputs": [],
   "source": [
    "# Save the model\n",
    "model.save('plastic_classifier.h5')"
   ]
  },
  {
   "cell_type": "markdown",
   "metadata": {},
   "source": [
    "# Convert to TensorFlow Lite format"
   ]
  },
  {
   "cell_type": "code",
   "execution_count": 15,
   "metadata": {},
   "outputs": [
    {
     "name": "stderr",
     "output_type": "stream",
     "text": [
      "WARNING:absl:Found untraced functions such as _jit_compiled_convolution_op, _jit_compiled_convolution_op, _jit_compiled_convolution_op, _jit_compiled_convolution_op, _jit_compiled_convolution_op while saving (showing 5 of 13). These functions will not be directly callable after loading.\n"
     ]
    },
    {
     "name": "stdout",
     "output_type": "stream",
     "text": [
      "INFO:tensorflow:Assets written to: C:\\Users\\LENOVO\\AppData\\Local\\Temp\\tmp_v1f2rnc\\assets\n"
     ]
    },
    {
     "name": "stderr",
     "output_type": "stream",
     "text": [
      "INFO:tensorflow:Assets written to: C:\\Users\\LENOVO\\AppData\\Local\\Temp\\tmp_v1f2rnc\\assets\n"
     ]
    },
    {
     "name": "stdout",
     "output_type": "stream",
     "text": [
      "Model saved as plastic_classifier.h5\n",
      "TensorFlow Lite model saved as plastic_classifier.tflite\n"
     ]
    }
   ],
   "source": [
    "\n",
    "# Convert to TensorFlow Lite format\n",
    "converter = tf.lite.TFLiteConverter.from_keras_model(model)\n",
    "tflite_model = converter.convert()\n",
    "\n",
    "# Save the TF Lite model\n",
    "with open('plastic_classifier.tflite', 'wb') as f:\n",
    "    f.write(tflite_model)\n",
    "\n",
    "print(\"Model saved as plastic_classifier.h5\")\n",
    "print(\"TensorFlow Lite model saved as plastic_classifier.tflite\")"
   ]
  }
 ],
 "metadata": {
  "kernelspec": {
   "display_name": "tf_env",
   "language": "python",
   "name": "python3"
  },
  "language_info": {
   "codemirror_mode": {
    "name": "ipython",
    "version": 3
   },
   "file_extension": ".py",
   "mimetype": "text/x-python",
   "name": "python",
   "nbconvert_exporter": "python",
   "pygments_lexer": "ipython3",
   "version": "3.10.15"
  }
 },
 "nbformat": 4,
 "nbformat_minor": 2
}
